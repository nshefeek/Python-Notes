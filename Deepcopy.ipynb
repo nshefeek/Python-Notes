{
 "cells": [
  {
   "cell_type": "markdown",
   "metadata": {},
   "source": [
    "Python lists are related to arrays in other programming languages like C, C++ or Java. But Python lists are far more flexible and powerful than arrays."
   ]
  },
  {
   "cell_type": "markdown",
   "metadata": {},
   "source": [
    "Main properties of Python lists are :\n",
    " - They are ordered.\n",
    " - They contain arbitrary objects.\n",
    " - Elements of a list can accessed by respective indices.\n",
    " - Variable size.\n",
    " - They are mutable."
   ]
  },
  {
   "cell_type": "markdown",
   "metadata": {},
   "source": [
    "Most part where beginners face difficulty with Python lists are when they try to make a copy of lists."
   ]
  },
  {
   "cell_type": "markdown",
   "metadata": {},
   "source": [
    "Let's look into an example. Consider a list `list1` with integer elements."
   ]
  },
  {
   "cell_type": "code",
   "execution_count": 1,
   "metadata": {},
   "outputs": [
    {
     "name": "stdout",
     "output_type": "stream",
     "text": [
      "[99, 21, 3, 45, 2, 4, 200, 1, 12]\n"
     ]
    }
   ],
   "source": [
    "list1 = [99, 21, 3, 45, 2, 4, 200, 1, 12]\n",
    "print(list1)"
   ]
  },
  {
   "cell_type": "markdown",
   "metadata": {},
   "source": [
    "Let us create a copy of `list1`"
   ]
  },
  {
   "cell_type": "code",
   "execution_count": 2,
   "metadata": {},
   "outputs": [
    {
     "name": "stdout",
     "output_type": "stream",
     "text": [
      "[99, 21, 3, 45, 2, 4, 200, 1, 12]\n"
     ]
    }
   ],
   "source": [
    "list1_copy = list1\n",
    "print(list1_copy)"
   ]
  },
  {
   "cell_type": "markdown",
   "metadata": {},
   "source": [
    "Since lists are mutable objects we can change any element in a list my using indexing, as shown below."
   ]
  },
  {
   "cell_type": "code",
   "execution_count": 3,
   "metadata": {},
   "outputs": [],
   "source": [
    "list1[-1] = 'Change' # Changing the last element of list1"
   ]
  },
  {
   "cell_type": "code",
   "execution_count": 4,
   "metadata": {},
   "outputs": [
    {
     "name": "stdout",
     "output_type": "stream",
     "text": [
      "[99, 21, 3, 45, 2, 4, 200, 1, 'Change']\n"
     ]
    }
   ],
   "source": [
    "print(list1)"
   ]
  },
  {
   "cell_type": "markdown",
   "metadata": {},
   "source": [
    "Okay nice, we did it. But wait let's check what happened to our `list1_copy`"
   ]
  },
  {
   "cell_type": "code",
   "execution_count": 5,
   "metadata": {},
   "outputs": [
    {
     "name": "stdout",
     "output_type": "stream",
     "text": [
      "[99, 21, 3, 45, 2, 4, 200, 1, 'Change']\n"
     ]
    }
   ],
   "source": [
    "print(list1_copy)"
   ]
  },
  {
   "cell_type": "markdown",
   "metadata": {},
   "source": [
    "Well it seems we have messed up with our list copy as well, which wasn't desired. Let us examine what happened underneath."
   ]
  },
  {
   "cell_type": "code",
   "execution_count": 6,
   "metadata": {},
   "outputs": [
    {
     "name": "stdout",
     "output_type": "stream",
     "text": [
      "140446088647624\n",
      "140446088647624\n"
     ]
    }
   ],
   "source": [
    "print(id(list1)) # Prints the memory location of `list1`\n",
    "print(id(list1_copy))"
   ]
  },
  {
   "cell_type": "markdown",
   "metadata": {},
   "source": [
    "Both lists are having variables being referred to same memory location. That's what causing the problem. It can be easily overcome by creating copies using slicing."
   ]
  },
  {
   "cell_type": "code",
   "execution_count": 7,
   "metadata": {},
   "outputs": [
    {
     "name": "stdout",
     "output_type": "stream",
     "text": [
      "[99, 21, 3, 45, 2, 4, 200, 1, 'Change']\n"
     ]
    }
   ],
   "source": [
    "list1_copy = list1[::]\n",
    "print(list1_copy)"
   ]
  },
  {
   "cell_type": "markdown",
   "metadata": {},
   "source": [
    "Now let us try the to change elements of `list1_copy`"
   ]
  },
  {
   "cell_type": "code",
   "execution_count": 8,
   "metadata": {},
   "outputs": [],
   "source": [
    "list1_copy[0] = 'First'"
   ]
  },
  {
   "cell_type": "code",
   "execution_count": 9,
   "metadata": {},
   "outputs": [
    {
     "name": "stdout",
     "output_type": "stream",
     "text": [
      "['First', 21, 3, 45, 2, 4, 200, 1, 'Change']\n"
     ]
    }
   ],
   "source": [
    "print(list1_copy)"
   ]
  },
  {
   "cell_type": "code",
   "execution_count": 10,
   "metadata": {},
   "outputs": [
    {
     "name": "stdout",
     "output_type": "stream",
     "text": [
      "[99, 21, 3, 45, 2, 4, 200, 1, 'Change']\n"
     ]
    }
   ],
   "source": [
    "print(list1)"
   ]
  },
  {
   "cell_type": "markdown",
   "metadata": {},
   "source": [
    "So far so good. Let us confirm by checking the memory references"
   ]
  },
  {
   "cell_type": "code",
   "execution_count": 11,
   "metadata": {},
   "outputs": [
    {
     "name": "stdout",
     "output_type": "stream",
     "text": [
      "140446088647624\n",
      "140445973254792\n"
     ]
    }
   ],
   "source": [
    "print(id(list1))\n",
    "print(id(list1_copy))"
   ]
  },
  {
   "cell_type": "markdown",
   "metadata": {},
   "source": [
    "### Deep Lists"
   ]
  },
  {
   "cell_type": "markdown",
   "metadata": {},
   "source": [
    "So far we have dealt with what we call 'shallow lists'. Since lists can contain arbitrary objects like lists as well."
   ]
  },
  {
   "cell_type": "code",
   "execution_count": 12,
   "metadata": {},
   "outputs": [],
   "source": [
    "deeplist = [99, ['First', 'Second', 'Third'], 21, 3, 45, 2, 4, 200, 1, 12]"
   ]
  },
  {
   "cell_type": "markdown",
   "metadata": {},
   "source": [
    "Now let us create a copy of the same by slicing"
   ]
  },
  {
   "cell_type": "code",
   "execution_count": 13,
   "metadata": {},
   "outputs": [],
   "source": [
    "deeplist_copy = deeplist[::]"
   ]
  },
  {
   "cell_type": "code",
   "execution_count": 14,
   "metadata": {},
   "outputs": [
    {
     "name": "stdout",
     "output_type": "stream",
     "text": [
      "140445972344136\n",
      "140445973165384\n"
     ]
    }
   ],
   "source": [
    "print(id(deeplist))\n",
    "print(id(deeplist_copy))"
   ]
  },
  {
   "cell_type": "markdown",
   "metadata": {},
   "source": [
    "Great both are having different memory references. Let us try changing some elements."
   ]
  },
  {
   "cell_type": "code",
   "execution_count": 15,
   "metadata": {},
   "outputs": [],
   "source": [
    "deeplist[0] = 'Nothing'"
   ]
  },
  {
   "cell_type": "code",
   "execution_count": 16,
   "metadata": {},
   "outputs": [
    {
     "name": "stdout",
     "output_type": "stream",
     "text": [
      "['Nothing', ['First', 'Second', 'Third'], 21, 3, 45, 2, 4, 200, 1, 12]\n"
     ]
    }
   ],
   "source": [
    "print(deeplist)"
   ]
  },
  {
   "cell_type": "code",
   "execution_count": 17,
   "metadata": {},
   "outputs": [
    {
     "name": "stdout",
     "output_type": "stream",
     "text": [
      "[99, ['First', 'Second', 'Third'], 21, 3, 45, 2, 4, 200, 1, 12]\n"
     ]
    }
   ],
   "source": [
    "print(deeplist_copy)"
   ]
  },
  {
   "cell_type": "markdown",
   "metadata": {},
   "source": [
    "Is it all or are we missing something. Let us dive deep into the list"
   ]
  },
  {
   "cell_type": "code",
   "execution_count": 18,
   "metadata": {},
   "outputs": [],
   "source": [
    "deeplist[1][0] = 1"
   ]
  },
  {
   "cell_type": "code",
   "execution_count": 19,
   "metadata": {},
   "outputs": [
    {
     "name": "stdout",
     "output_type": "stream",
     "text": [
      "['Nothing', [1, 'Second', 'Third'], 21, 3, 45, 2, 4, 200, 1, 12]\n"
     ]
    }
   ],
   "source": [
    "print(deeplist)"
   ]
  },
  {
   "cell_type": "code",
   "execution_count": 20,
   "metadata": {},
   "outputs": [
    {
     "name": "stdout",
     "output_type": "stream",
     "text": [
      "[99, [1, 'Second', 'Third'], 21, 3, 45, 2, 4, 200, 1, 12]\n"
     ]
    }
   ],
   "source": [
    "print(deeplist_copy)"
   ]
  },
  {
   "cell_type": "code",
   "execution_count": 21,
   "metadata": {},
   "outputs": [
    {
     "name": "stdout",
     "output_type": "stream",
     "text": [
      "140445972436040\n",
      "140445972436040\n"
     ]
    }
   ],
   "source": [
    "print(id(deeplist[1]))\n",
    "print(id(deeplist_copy[1]))"
   ]
  },
  {
   "cell_type": "markdown",
   "metadata": {},
   "source": [
    "Oh oh!!!. Did you notice something.\n",
    "Yeah right the inner lists are having same memory refernces."
   ]
  }
 ],
 "metadata": {
  "kernelspec": {
   "display_name": "Python 3",
   "language": "python",
   "name": "python3"
  },
  "language_info": {
   "codemirror_mode": {
    "name": "ipython",
    "version": 3
   },
   "file_extension": ".py",
   "mimetype": "text/x-python",
   "name": "python",
   "nbconvert_exporter": "python",
   "pygments_lexer": "ipython3",
   "version": "3.7.1"
  }
 },
 "nbformat": 4,
 "nbformat_minor": 2
}
